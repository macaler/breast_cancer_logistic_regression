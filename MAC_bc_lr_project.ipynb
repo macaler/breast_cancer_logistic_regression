{
 "cells": [
  {
   "cell_type": "markdown",
   "metadata": {},
   "source": [
    "# Breat Cancer Detection Logistic Regression Practice Project\n",
    "\n",
    "So here's a cute little project that I did after an idle prompt at the end of Codecademy's Logistic Regression lesson. They recommended finding a data set for binary classification to practice building logistic regression models, and suggested the Scikit-Learn breast cancer data set in particular. I happen to have an old friend who worked on breast cancer detection techniques in the past, and more speciically machine learning methods to detect breat cancer given a particular set of measurements, so I figured I'd give this project a go.\n",
    "\n",
    "First off: let's give some credit to the folks who compiled the data set I'm about to use and to the scikit-learn folks who made it available through their open-source software package.\n",
    "\n",
    "Let's start with a citation to the Scikit-Learn folks: <br>\n",
    "Scikit-learn: Machine Learning in Python, Pedregosa et al., JMLR 12, pp. 2825-2830, 2011<br>\n",
    "and, of course, their main website: https://scikit-learn.org/stable/index.html<br>\n",
    "As documented on https://scikit-learn.org/stable/datasets/index.html#breast-cancer-dataset, the breast cancer data used in this project comes from UCI ML Breast Cancer Wisconsin (Diagnostic) datasets (https://goo.gl/U2Uwz2); the quoted website says that the data is also available through the UW CS ftp server ftp.cs.wisc.edu cd math-prog/cpo-dataset/machine-learn/WDBC/.<br>\n",
    "I refer the reader to the Scikit-Learn documentation for an explanation of what the features are and the papers they cited."
   ]
  },
  {
   "cell_type": "markdown",
   "metadata": {},
   "source": [
    "# Import the data and get it ready for modeling\n",
    "\n",
    "Now that I've given some credit to those who compiled the data I'm about to use, we can get started. We'll need to import a fair number of packages, as well as the data itself:"
   ]
  },
  {
   "cell_type": "code",
   "execution_count": 1,
   "metadata": {},
   "outputs": [],
   "source": [
    "# Importing packages and the data to be used:\n",
    "\n",
    "import pandas as pd\n",
    "import numpy as np\n",
    "import matplotlib.pyplot as plt\n",
    "from sklearn.datasets import load_breast_cancer\n",
    "from sklearn.preprocessing import StandardScaler\n",
    "from sklearn.model_selection import train_test_split\n",
    "from sklearn.linear_model import LogisticRegression"
   ]
  },
  {
   "cell_type": "markdown",
   "metadata": {},
   "source": [
    "From Scikit-Learn datasets, we've imported the breast cancer data. The default when one loads a Scikit-Learn data set seems to be an object called a \"bunch,\" although there is an option to import the data as a DataFrame so I will use that:"
   ]
  },
  {
   "cell_type": "code",
   "execution_count": 2,
   "metadata": {},
   "outputs": [],
   "source": [
    "breast_cancer_data = load_breast_cancer(as_frame = True)"
   ]
  },
  {
   "cell_type": "markdown",
   "metadata": {},
   "source": [
    "The resulting DataFrame seems to either be a dictionary or contain a dictionary. I did manage to figure out how to get just the features by themselves, and just the targets by themselves, and convert them into Pandas DataFrames to make them easier to work with."
   ]
  },
  {
   "cell_type": "code",
   "execution_count": 3,
   "metadata": {
    "collapsed": true
   },
   "outputs": [
    {
     "data": {
      "text/html": [
       "<div>\n",
       "<style scoped>\n",
       "    .dataframe tbody tr th:only-of-type {\n",
       "        vertical-align: middle;\n",
       "    }\n",
       "\n",
       "    .dataframe tbody tr th {\n",
       "        vertical-align: top;\n",
       "    }\n",
       "\n",
       "    .dataframe thead th {\n",
       "        text-align: right;\n",
       "    }\n",
       "</style>\n",
       "<table border=\"1\" class=\"dataframe\">\n",
       "  <thead>\n",
       "    <tr style=\"text-align: right;\">\n",
       "      <th></th>\n",
       "      <th>target</th>\n",
       "    </tr>\n",
       "  </thead>\n",
       "  <tbody>\n",
       "    <tr>\n",
       "      <th>0</th>\n",
       "      <td>0</td>\n",
       "    </tr>\n",
       "    <tr>\n",
       "      <th>1</th>\n",
       "      <td>0</td>\n",
       "    </tr>\n",
       "    <tr>\n",
       "      <th>2</th>\n",
       "      <td>0</td>\n",
       "    </tr>\n",
       "    <tr>\n",
       "      <th>3</th>\n",
       "      <td>0</td>\n",
       "    </tr>\n",
       "    <tr>\n",
       "      <th>4</th>\n",
       "      <td>0</td>\n",
       "    </tr>\n",
       "    <tr>\n",
       "      <th>...</th>\n",
       "      <td>...</td>\n",
       "    </tr>\n",
       "    <tr>\n",
       "      <th>564</th>\n",
       "      <td>0</td>\n",
       "    </tr>\n",
       "    <tr>\n",
       "      <th>565</th>\n",
       "      <td>0</td>\n",
       "    </tr>\n",
       "    <tr>\n",
       "      <th>566</th>\n",
       "      <td>0</td>\n",
       "    </tr>\n",
       "    <tr>\n",
       "      <th>567</th>\n",
       "      <td>0</td>\n",
       "    </tr>\n",
       "    <tr>\n",
       "      <th>568</th>\n",
       "      <td>1</td>\n",
       "    </tr>\n",
       "  </tbody>\n",
       "</table>\n",
       "<p>569 rows × 1 columns</p>\n",
       "</div>"
      ],
      "text/plain": [
       "     target\n",
       "0         0\n",
       "1         0\n",
       "2         0\n",
       "3         0\n",
       "4         0\n",
       "..      ...\n",
       "564       0\n",
       "565       0\n",
       "566       0\n",
       "567       0\n",
       "568       1\n",
       "\n",
       "[569 rows x 1 columns]"
      ]
     },
     "execution_count": 3,
     "metadata": {},
     "output_type": "execute_result"
    }
   ],
   "source": [
    "# First, import the features:\n",
    "all_features = breast_cancer_data.data\n",
    "pd.DataFrame(all_features)\n",
    "#print(all_features.columns)\n",
    "\n",
    "# Then import the targets:\n",
    "targets = breast_cancer_data.target\n",
    "pd.DataFrame(targets)\n",
    "# From the original breast_cancer_data bunch: target_names are 'malignant' and 'benign'. \n",
    "# '0' is malignant; '1' is benign\n",
    "#print(targets)"
   ]
  },
  {
   "cell_type": "markdown",
   "metadata": {},
   "source": [
    "For some reason, when I convert 'target' to a DataFrame, the entire Series is automatically printed out. I've toggled this output to be hidden in the above. And I will also admit to a bit of puzzlement as to why the 'target' data bunch was called 'target': it's really the classification of the particular mass being studied by the fine needle aspirate imaging method."
   ]
  },
  {
   "cell_type": "markdown",
   "metadata": {},
   "source": [
    "# Build the initial model\n",
    "Now that we have the data in DataFrames, we can start to pluck off the features we want to incorporate in our logistic regression model. While the errors in the reported measurements are valuable information, they aren't of much use to us at the moment so I will leave them out of the list of features we will be considering. I will start off by considering a broad set of features, and will trim the number of model features if needs be. Let's assume that the 'mean' values are more important than 'worse' values, and keep all the 'mean' values and as many 'worst' values as we can without causing the logistic regression algorithm to fail to converge:"
   ]
  },
  {
   "cell_type": "code",
   "execution_count": 4,
   "metadata": {},
   "outputs": [],
   "source": [
    "# using all of the non-error features causes the logistic regression algorithm to fail to converge.\n",
    "# features_1 = all_features[['mean radius', 'mean texture', 'mean perimeter', 'mean area', 'mean smoothness',\\\n",
    "#                          'mean compactness', 'mean concavity', 'mean concave points', 'mean symmetry',\\\n",
    "#                          'mean fractal dimension', 'worst radius', 'worst texture', 'worst perimeter', \\\n",
    "#                          'worst area', 'worst smoothness', 'worst compactness', 'worst concavity', \\\n",
    "#                          'worst concave points', 'worst symmetry', 'worst fractal dimension']]\n",
    "\n",
    "# including more 'worst' values than this seems cause the logistic regression algorithm to fail to converge:\n",
    "features_1 = all_features[['mean radius', 'mean texture', 'mean perimeter', 'mean area', 'mean smoothness',\\\n",
    "                         'mean compactness', 'mean concavity', 'mean concave points', 'mean symmetry',\\\n",
    "                         'worst compactness']]"
   ]
  },
  {
   "cell_type": "markdown",
   "metadata": {},
   "source": [
    "If we're going to be building a supervised machine learning model, it needs to be trained. So, let's split our features and targets up into training and test sets. I will use what seems to be the usual split of 80% training, 20% test. And, I will pick a random state so that I can keep the same splitting of feature rows/target rows if/when I build a model with fewer features below."
   ]
  },
  {
   "cell_type": "code",
   "execution_count": 5,
   "metadata": {
    "collapsed": true
   },
   "outputs": [
    {
     "data": {
      "text/plain": [
       "array([[ 2.92635643e-01, -1.30427498e+00,  4.09740749e-01, ...,\n",
       "         4.63551423e-01,  9.74477737e-01,  6.99664372e-01],\n",
       "       [-1.97911946e-01, -9.58755925e-02, -1.69337819e-01, ...,\n",
       "         7.51225907e-01,  1.12431073e+00,  1.01806421e+00],\n",
       "       [-2.68912255e-01, -7.77536786e-01, -3.03699185e-01, ...,\n",
       "        -3.46916113e-01, -2.95535252e-01, -2.39944950e-01],\n",
       "       ...,\n",
       "       [-1.53433140e+00, -4.39288239e-01, -1.45570598e+00, ...,\n",
       "        -6.89229823e-02,  1.06366404e+00,  1.13738920e+00],\n",
       "       [ 2.40999055e-01,  7.97038058e-02,  2.21918697e-01, ...,\n",
       "        -4.70007599e-01, -1.21237047e+00,  1.08436043e-01],\n",
       "       [-1.04745272e-03, -8.36923935e-01, -5.62661049e-02, ...,\n",
       "        -1.00422465e+00, -1.45495722e+00, -8.37769133e-01]])"
      ]
     },
     "execution_count": 5,
     "metadata": {},
     "output_type": "execute_result"
    }
   ],
   "source": [
    "feat_train_1, feat_test_1, targ_train_1, targ_test_1 = train_test_split(features_1, targets, train_size = 0.8, \\\n",
    "                                                                        test_size = 0.2, random_state = 1)\n",
    "\n",
    "# We should make sure the data is appropriately scaled before building our logistic regression model, and to do the\n",
    "# scaling we will make use of Scikit-Learn's StandardScaler standardization function:\n",
    "stdscale = StandardScaler()\n",
    "stdscale.fit_transform(feat_train_1)\n",
    "stdscale.fit_transform(feat_test_1)"
   ]
  },
  {
   "cell_type": "markdown",
   "metadata": {},
   "source": [
    "When I use the fit_transform method, the resulting arrays are for some reason automatically printed out, so the output for the above cell has been toggled.\n",
    "\n",
    "Now that we have training and test sets, and have scaled the feature data, we can build the logistic regression model. We will use Scikit-Learn's LogisticRegression function to do so."
   ]
  },
  {
   "cell_type": "code",
   "execution_count": 6,
   "metadata": {},
   "outputs": [
    {
     "name": "stdout",
     "output_type": "stream",
     "text": [
      "Training score:  0.9274725274725275\n",
      "Test score:  0.9035087719298246\n",
      "The number of successes was 103, and the number of failures was 11\n"
     ]
    },
    {
     "data": {
      "text/plain": [
       "Text(0.5, 1.0, 'Number of Successful and Failed Model Predictions')"
      ]
     },
     "execution_count": 6,
     "metadata": {},
     "output_type": "execute_result"
    },
    {
     "data": {
      "image/png": "[encoded data removed]",
      "text/plain": [
       "<Figure size 432x432 with 1 Axes>"
      ]
     },
     "metadata": {
      "needs_background": "light"
     },
     "output_type": "display_data"
    }
   ],
   "source": [
    "# First build the logistic regression model:\n",
    "bc_l_r_1 = LogisticRegression()\n",
    "bc_l_r_1.fit(feat_train_1, targ_train_1)\n",
    "\n",
    "# Figure out what the training accuracy is:\n",
    "train_score_1 = bc_l_r_1.score(feat_train_1, targ_train_1)\n",
    "print('Training score: ', train_score_1)\n",
    "# So, this model has correctly classified 92.7% of the data. That's not too bad at all!\n",
    "\n",
    "# Now let's predict what the targets for the features we set aside in the test set should be:\n",
    "targ_predict_1 = bc_l_r_1.predict(feat_test_1)\n",
    "\n",
    "# Get the test accuracy:\n",
    "test_score_1 = bc_l_r_1.score(feat_test_1, targ_test_1)\n",
    "print('Test score: ', test_score_1)\n",
    "# All in all, correctly classifying 90.4% of data that the model has never \"seen\" is not that bad!\n",
    "\n",
    "# If we wanted to look at a specific row in the test set to see if the the prediction for that particular mass\n",
    "# was correct or not, we'll need to loop through all masses in the test set to see how the actual classification\n",
    "# compares with our model's prediction:\n",
    "\n",
    "# An empty array:\n",
    "results_1=[]\n",
    "\n",
    "# Loop over masses to see if the predicted classfication and actual classification match up:\n",
    "for i in range(len(targ_predict_1)):\n",
    "    if targ_predict_1[i] == targ_test_1.iloc[i]:\n",
    "        results_1.append('successful')\n",
    "    else:\n",
    "        results_1.append('unsuccessful')\n",
    "\n",
    "# Count the number of successes and the number of failures:\n",
    "success_count_1 = results_1.count('successful')\n",
    "fails_count_1 = results_1.count('unsuccessful')\n",
    "\n",
    "# Let's set these success/failure counts up for a bar graph visualization. We have two options: The predicted\n",
    "# classification was successful -- it matched the actual classification -- or it failed. Set up an array stating\n",
    "# these options, and gather up the counts.\n",
    "options = ['successful', 'failed']\n",
    "test_counts_1 =[success_count_1, fails_count_1]\n",
    "\n",
    "print('The number of successes was {}, and the number of failures was {}'.format(success_count_1,fails_count_1))\n",
    "     \n",
    "# Now plot a histogram to visualize the success/failure counts:\n",
    "plt.figure(figsize=(6,6))\n",
    "plt.bar(options, test_counts_1)\n",
    "plt.ylabel('number of predictions')\n",
    "plt.xlabel('outcome')\n",
    "plt.title('Number of Successful and Failed Model Predictions')"
   ]
  },
  {
   "cell_type": "code",
   "execution_count": 7,
   "metadata": {},
   "outputs": [
    {
     "data": {
      "image/png": "[encoded data removed]",
      "text/plain": [
       "<Figure size 432x288 with 1 Axes>"
      ]
     },
     "metadata": {
      "needs_background": "light"
     },
     "output_type": "display_data"
    }
   ],
   "source": [
    "# The below code I borrowed from Codecademy. If we wanted to look at how the coefficients used in the logistic \n",
    "# regression analysis compare to each other, with big numbers (in absolute value) having a big impact on the\n",
    "# probability that a data point belongs to the 'benign' class, and small numbers having a smaller impact, we\n",
    "# could do:\n",
    "coefficients = bc_l_r_1.coef_\n",
    "coefficients = coefficients.tolist()[0]\n",
    "\n",
    "# and plot a bar graph:\n",
    "plt.bar([1,2,3,4,5,6,7,8,9,10],coefficients)\n",
    "plt.xticks([1,2,3,4,5,6,7,8,9,10],['mean radius', 'mean texture', 'mean perimeter', 'mean area', 'mean smoothness',\\\n",
    "                                   'mean compactness', 'mean concavity', 'mean concave points', 'mean symmetry',\\\n",
    "                                   'worst compactness'], rotation = 90)\n",
    "plt.xlabel('feature')\n",
    "plt.ylabel('coefficient')\n",
    "\n",
    "plt.show()"
   ]
  },
  {
   "cell_type": "markdown",
   "metadata": {},
   "source": [
    "In the model I constructed above, 'mean radius' and 'worst compactness' have the biggest impact on classification probabilities. Mean area has the smallest impact."
   ]
  },
  {
   "cell_type": "markdown",
   "metadata": {},
   "source": [
    "# Building a better model\n",
    "As I mentioned above, I have an old friend who used to work on machine learning methods for breast cancer detection, so I have an educated guess about what sorts of features are most important when trying to classify a given mass as benign or malignant. Symmetry and compactness will be very important, and I think radius and area will be as well. I'm also going to play around a bit with including \"worst\" measurements in addition to \"mean\" measurements. Let us use these educated guesses to see if we can build a better model:"
   ]
  },
  {
   "cell_type": "code",
   "execution_count": 8,
   "metadata": {
    "collapsed": true
   },
   "outputs": [
    {
     "data": {
      "text/plain": [
       "array([[ 2.92635643e-01,  1.31870914e-01,  1.46844006e+00,\n",
       "         9.74477737e-01,  6.99664372e-01,  1.54981096e-02,\n",
       "        -1.90246784e-01],\n",
       "       [-1.97911946e-01, -2.69673236e-01,  3.86657622e-01,\n",
       "         1.12431073e+00,  1.01806421e+00, -9.67717228e-02,\n",
       "         1.29351802e+00],\n",
       "       [-2.68912255e-01, -3.38745439e-01, -3.94192612e-01,\n",
       "        -2.95535252e-01, -2.39944950e-01, -4.89039812e-01,\n",
       "         5.74452130e-01],\n",
       "       [ 1.46091345e+00,  1.40392312e+00, -3.00318929e-01,\n",
       "        -6.84387544e-01, -1.38870595e-02,  1.36995022e+00,\n",
       "         3.33841622e-01],\n",
       "       [ 4.34636261e-01,  3.41400947e-01, -9.91050427e-01,\n",
       "         1.39693918e-01, -8.88377318e-01,  2.90987538e-01,\n",
       "         3.71177735e-01],\n",
       "       [ 7.67046799e-01,  6.39832525e-01,  4.81425340e-01,\n",
       "         1.23846920e+00,  3.51883002e-01,  8.40162862e-01,\n",
       "         7.12734031e-01],\n",
       "       [ 1.74491469e+00,  1.78729037e+00,  3.04406395e-01,\n",
       "        -2.56293278e-01, -2.71125349e-01,  1.56157544e+00,\n",
       "        -7.21249285e-01],\n",
       "       [ 1.38668586e+00,  1.34773999e+00, -2.69206509e-01,\n",
       "        -1.52837163e-01, -3.02905371e-01,  9.59646820e-01,\n",
       "        -8.23577892e-01],\n",
       "       [-1.06605209e+00, -9.20406100e-01, -7.46800045e-01,\n",
       "        -2.70563087e-01, -8.64752170e-01, -9.00695864e-01,\n",
       "        -1.12808919e-01],\n",
       "       [ 2.40999055e-01,  9.25427214e-02, -1.61922300e-01,\n",
       "        -5.80931430e-01, -5.93722551e-01, -1.18188659e-01,\n",
       "        -4.95849786e-01],\n",
       "       [-8.85324028e-01, -8.03082501e-01, -4.19046787e-01,\n",
       "        -3.52614488e-01, -5.91324058e-01, -7.46043042e-01,\n",
       "         4.62152670e-02],\n",
       "       [ 1.31271305e-01, -1.81710976e-02,  5.20762883e-01,\n",
       "         1.50602812e+00,  9.53904546e-01,  2.02323796e-02,\n",
       "         2.43296088e+00],\n",
       "       [ 7.92865093e-01,  6.24299541e-01,  1.40764568e+00,\n",
       "         2.25312772e-01,  1.34186066e+00,  5.15527202e-01,\n",
       "        -2.69067468e-01],\n",
       "       [-4.59322174e-01, -4.94075275e-01, -5.95886925e-01,\n",
       "        -7.52169136e-01, -3.02905371e-01, -5.82147123e-01,\n",
       "         2.54729818e-02],\n",
       "       [ 3.08772077e-01,  1.73182040e-01, -5.24542926e-01,\n",
       "         9.68844918e-02, -6.54884102e-01,  5.42740356e-02,\n",
       "        -3.35442781e-01],\n",
       "       [-2.91503262e-01, -4.06826176e-01,  1.15552779e+00,\n",
       "        -3.70451749e-01,  2.95518435e-01, -2.87720614e-01,\n",
       "        -5.29037442e-01],\n",
       "       [-5.10958763e-01, -5.23158308e-01, -6.44164819e-01,\n",
       "        -6.23740856e-01, -3.23892177e-01, -4.94224965e-01,\n",
       "        -4.19794740e-01],\n",
       "       [-6.78777675e-01, -6.46761198e-01, -1.58167352e-01,\n",
       "         1.43261371e-01, -5.94322174e-01, -5.69296961e-01,\n",
       "        -2.22051622e-01],\n",
       "       [-1.03700651e+00, -9.18423166e-01,  1.15373972e+00,\n",
       "         1.33835786e+00,  6.90070403e-01, -1.01544555e+00,\n",
       "        -5.08295157e-01],\n",
       "       [ 2.16123468e+00,  2.27971900e+00, -3.21775771e-01,\n",
       "        -1.23377519e+00, -9.42365484e-02,  2.13645109e+00,\n",
       "        -1.00472718e+00],\n",
       "       [-3.30230703e-01, -3.95259060e-01, -3.92583349e-01,\n",
       "        -1.92079138e-01, -3.77258629e-01, -5.01889973e-01,\n",
       "        -3.05020762e-01],\n",
       "       [-7.14277829e-01, -6.82454011e-01, -4.33708962e-01,\n",
       "         7.78267865e-01, -3.18495570e-01, -6.35351300e-01,\n",
       "         9.73795705e-02],\n",
       "       [ 1.87400616e+00,  1.89965664e+00, -4.94526875e-02,\n",
       "        -5.34554551e-01, -3.73660891e-01,  1.39474878e+00,\n",
       "        -9.28672137e-01],\n",
       "       [-3.33457990e-01, -4.04512752e-01,  1.82817625e-01,\n",
       "         1.09577111e+00, -2.93311402e-01, -4.01793978e-01,\n",
       "         1.47161055e-01],\n",
       "       [ 3.21681224e-01,  1.72190573e-01,  8.30099018e-01,\n",
       "         5.00006592e-01,  5.68346924e-01,  2.76784727e-01,\n",
       "         4.92865808e-01],\n",
       "       [-8.01414572e-01, -7.49543281e-01,  5.54736216e-01,\n",
       "         8.60319266e-01,  1.42700713e+00, -7.42661421e-01,\n",
       "         4.74889161e-01],\n",
       "       [ 2.60362776e-01,  1.35175804e-01,  5.63676566e-01,\n",
       "        -1.28015206e+00,  4.21439276e-01, -1.55161053e-01,\n",
       "        -9.77070803e-01],\n",
       "       [ 1.50932276e+00,  1.51628938e+00,  6.83811353e-02,\n",
       "         1.13858054e+00, -2.27352866e-01,  1.80505218e+00,\n",
       "         1.01004012e+00],\n",
       "       [ 4.33642597e+00,  5.39953527e+00,  1.60790953e+00,\n",
       "        -4.58135969e-02,  9.38913970e-01,  5.44142246e+00,\n",
       "        -1.50145033e-01],\n",
       "       [ 1.04136617e+00,  9.52144641e-01, -5.08450294e-01,\n",
       "         7.60430604e-01, -5.88925566e-01,  9.19067363e-01,\n",
       "         4.29256134e-01],\n",
       "       [ 2.50978166e+00,  2.85146499e+00,  2.57916571e-01,\n",
       "        -3.09805061e-01, -2.12961913e-01,  2.76092385e+00,\n",
       "        -1.25086897e+00],\n",
       "       [-8.78869454e-01, -8.00769078e-01, -1.87849317e-01,\n",
       "        -1.31432450e-01, -1.54798477e-01, -8.16831652e-01,\n",
       "         4.65209428e-01],\n",
       "       [ 7.57364939e-01,  6.03478734e-01,  1.80102111e+00,\n",
       "         1.25273901e+00,  1.05823896e+00,  1.15578086e+00,\n",
       "         1.02525113e+00],\n",
       "       [ 6.34982827e-02, -5.51858669e-02,  2.11426747e-01,\n",
       "        -5.13149837e-01,  6.59489628e-01,  1.50988409e-01,\n",
       "         2.96505508e-01],\n",
       "       [-1.39362169e+00, -1.14613010e+00, -4.24589805e-01,\n",
       "        -3.41912131e-01, -4.82192663e-01, -1.06323914e+00,\n",
       "        -1.19723015e-01],\n",
       "       [ 1.05453011e-01,  9.97265088e-04, -8.65706710e-01,\n",
       "        -1.56911569e+00, -8.14983457e-01, -1.18188659e-01,\n",
       "        -1.19555621e+00],\n",
       "       [ 1.33827656e+00,  1.26478725e+00, -5.57979838e-01,\n",
       "        -9.80486078e-01, -3.97046190e-01,  1.16705294e+00,\n",
       "        -6.36897325e-01],\n",
       "       [ 2.70044636e-01,  1.53683189e-01, -2.75643561e-01,\n",
       "        -4.56070602e-01, -4.21031112e-01,  3.09883089e-03,\n",
       "        -6.12006583e-01],\n",
       "       [-9.14369609e-01, -8.10022770e-01,  3.63412710e-01,\n",
       "         2.93094364e-01,  1.37817573e-01, -6.50004993e-01,\n",
       "        -8.00579429e-04],\n",
       "       [-6.69095814e-01, -6.47422176e-01, -7.16402853e-01,\n",
       "        -1.05897003e+00, -8.56357447e-01, -6.33096886e-01,\n",
       "        -5.42865633e-01],\n",
       "       [-1.44848557e+00, -1.18446682e+00,  3.75929201e-01,\n",
       "         1.37046493e+00, -2.22555882e-01, -1.07248223e+00,\n",
       "         9.90680653e-01],\n",
       "       [-9.46387691e-02, -1.82424136e-01, -4.38000331e-01,\n",
       "        -1.37065269e-02, -4.54010380e-01, -2.33389230e-01,\n",
       "        -1.29402748e-01],\n",
       "       [-6.56186667e-01, -6.49074621e-01,  2.25731308e-01,\n",
       "         6.42704681e-01, -3.45478607e-01, -5.82598005e-01,\n",
       "         2.81294499e-01],\n",
       "       [-1.33366210e-01, -2.07210812e-01, -5.04695347e-01,\n",
       "        -1.39431054e+00,  3.76805230e-02, -3.83758664e-01,\n",
       "        -1.26746280e+00],\n",
       "       [-7.20477617e-02, -1.81432669e-01,  3.16922886e-01,\n",
       "         5.32113662e-01,  1.37817573e-01, -2.60893084e-01,\n",
       "         1.38864141e-01],\n",
       "       [ 4.95954710e-01,  3.20910629e-01,  2.26949549e+00,\n",
       "         2.08752283e+00,  1.22013718e+00,  2.85126060e-01,\n",
       "         4.05748210e-01],\n",
       "       [-1.96614237e+00, -1.47331422e+00,  3.29439377e-01,\n",
       "         7.99672579e-01,  3.57279610e-01, -1.30468691e+00,\n",
       "        -2.41411088e-01],\n",
       "       [-1.30422585e+00, -1.07837985e+00, -9.76030638e-01,\n",
       "         9.56640476e-01, -9.18118622e-01, -1.00800598e+00,\n",
       "        -1.70887318e-01],\n",
       "       [ 2.76499210e-01,  1.64589326e-01, -6.16807345e-01,\n",
       "        -1.44068741e+00, -2.38745704e-01,  6.46443414e-02,\n",
       "        -7.04655457e-01],\n",
       "       [ 1.22209423e+00,  1.12003306e+00,  2.54340431e-01,\n",
       "        -2.63428182e-01,  2.06174601e-01,  9.57392406e-01,\n",
       "        -2.88426934e-01],\n",
       "       [ 1.36409485e+00,  1.29155686e+00,  4.90365690e-01,\n",
       "         1.08150130e+00, -8.46425796e-02,  1.40602085e+00,\n",
       "         3.96068477e-01],\n",
       "       [ 1.35764028e+00,  1.27172752e+00,  3.14922600e+00,\n",
       "         2.16243933e+00,  2.51112561e+00,  2.74288854e+00,\n",
       "         2.26287415e+00],\n",
       "       [-3.72185431e-01, -4.48798280e-01,  3.47320078e-01,\n",
       "        -2.77697991e-01, -1.30813555e-01, -6.19795841e-01,\n",
       "        -1.02132101e+00],\n",
       "       [-3.88321865e-01, -4.20376225e-01, -1.06060636e+00,\n",
       "        -4.13261175e-01, -1.08277511e+00, -5.37058836e-01,\n",
       "        -6.35514506e-01],\n",
       "       [-1.30422585e+00, -1.07904083e+00, -3.24457876e-01,\n",
       "         2.58696614e+00, -6.69275055e-01, -9.50067537e-01,\n",
       "         3.20013432e-01],\n",
       "       [ 3.76799885e-02, -5.55163559e-02, -8.63382219e-01,\n",
       "         5.63281929e-04, -2.77121579e-01, -1.88075502e-01,\n",
       "        -3.94903998e-01],\n",
       "       [-2.81821402e-01, -3.29822236e-01, -8.54978289e-01,\n",
       "         5.76425174e-02, -5.76933105e-01, -4.54772714e-01,\n",
       "         8.21685614e-02],\n",
       "       [ 1.62227779e+00,  1.60552142e+00, -7.62356255e-01,\n",
       "        -9.37676651e-01, -7.84402681e-01,  9.77682135e-01,\n",
       "        -5.49779728e-01],\n",
       "       [-3.97748940e-02, -1.17648290e-01, -4.64821383e-01,\n",
       "        -7.43532147e-02,  3.81264532e-01, -3.27623748e-01,\n",
       "         5.84131863e-01],\n",
       "       [-1.13705240e+00, -9.76258743e-01, -3.72199349e-01,\n",
       "        -5.13149837e-01, -1.33212047e-01, -1.00304627e+00,\n",
       "        -3.78310170e-01],\n",
       "       [-9.30506043e-01, -8.24233798e-01, -1.14965225e+00,\n",
       "        -1.32296149e+00, -9.82638062e-01, -7.49199222e-01,\n",
       "        -3.13317676e-01],\n",
       "       [-4.27049307e-01, -4.63670286e-01,  2.46975934e+00,\n",
       "         7.74700413e-01,  4.86404647e+00, -2.04983609e-01,\n",
       "         1.93791168e+00],\n",
       "       [ 3.76545100e-01,  2.42254244e-01,  2.72221132e-01,\n",
       "        -2.45590921e-01,  3.16842925e-02,  1.66253167e-02,\n",
       "        -1.55676309e-01],\n",
       "       [-1.65639078e-01, -2.13159615e-01, -9.10587271e-01,\n",
       "        -1.52273882e+00, -7.37632083e-01,  6.37425757e-02,\n",
       "        -1.29650199e+00],\n",
       "       [-1.88230085e-01, -2.46539005e-01, -1.00553380e+00,\n",
       "        -1.16242614e+00, -5.75733859e-01, -4.51616534e-01,\n",
       "        -2.73215925e-01],\n",
       "       [-5.94868219e-01, -5.79010951e-01, -6.71781092e-03,\n",
       "        -8.02113467e-01,  2.06774224e-01, -5.77638294e-01,\n",
       "        -6.90827267e-01],\n",
       "       [-5.23867910e-01, -5.31751022e-01, -4.12967349e-01,\n",
       "        -1.24447754e+00, -1.13424486e-01, -5.74707555e-01,\n",
       "        -7.72413589e-01],\n",
       "       [ 2.17091654e+00,  2.32268257e+00,  1.05930608e-01,\n",
       "        -1.30155678e+00,  1.75593825e-01,  2.41148963e+00,\n",
       "        -7.29546199e-01],\n",
       "       [-4.78685895e-01, -5.03989945e-01, -5.17569452e-01,\n",
       "        -5.20284742e-01, -4.90587386e-01, -5.76285645e-01,\n",
       "        -6.67319344e-01],\n",
       "       [-6.40050233e-01, -6.09085451e-01, -7.00131414e-01,\n",
       "         1.21856657e-01, -4.45016034e-01, -5.41793106e-01,\n",
       "        -2.56622097e-01],\n",
       "       [-3.14094270e-01, -3.54939401e-01, -1.13963906e+00,\n",
       "        -1.23734264e+00, -1.15347067e+00, -5.22179702e-01,\n",
       "        -1.63390983e+00],\n",
       "       [-3.23776130e-01, -3.75760208e-01, -8.78580815e-01,\n",
       "        -7.94978563e-01, -1.05657158e+00, -5.57799448e-01,\n",
       "        -8.04218426e-01],\n",
       "       [-1.10775203e-01, -1.75814356e-01, -7.36071624e-01,\n",
       "        -1.02892832e-01, -2.54935526e-01, -3.25209151e-02,\n",
       "         4.06839910e-02],\n",
       "       [ 2.06441608e+00,  2.09464516e+00,  8.47979720e-01,\n",
       "        -3.16939965e-01,  2.84125597e-01,  1.52550481e+00,\n",
       "         9.32311135e-02],\n",
       "       [-1.58306343e+00, -1.23998897e+00, -4.38000331e-01,\n",
       "         4.17955191e-01, -7.31635853e-01, -1.12794083e+00,\n",
       "        -7.33694656e-01],\n",
       "       [ 6.05682460e-01,  5.19865014e-01,  3.75359371e+00,\n",
       "         2.43356569e+00,  1.62128500e+00,  9.55137992e-01,\n",
       "         4.32021772e-01],\n",
       "       [ 3.89454247e-01,  2.72989722e-01, -8.96997938e-01,\n",
       "        -8.84164868e-01, -1.17229883e+00, -2.33389230e-01,\n",
       "        -1.93536438e+00],\n",
       "       [-3.27003417e-01, -3.63201626e-01, -7.84349518e-01,\n",
       "        -8.12815824e-01, -5.66739513e-01, -3.35288756e-01,\n",
       "        -1.87481146e-01],\n",
       "       [-7.49777984e-01, -7.04266286e-01, -4.38715559e-01,\n",
       "        -1.43355251e+00, -4.07239782e-01, -7.04561819e-01,\n",
       "        -1.04621175e+00],\n",
       "       [ 7.57364939e-01,  6.31239811e-01,  9.73144630e-01,\n",
       "         6.60541942e-01,  2.00024677e+00,  1.03404249e+00,\n",
       "         1.80516105e+00],\n",
       "       [-7.98187285e-01, -7.34010297e-01, -9.73884954e-01,\n",
       "        -1.05897003e+00, -9.31430254e-01, -7.56638790e-01,\n",
       "        -7.80710503e-01],\n",
       "       [ 1.05750261e+00,  9.99404570e-01,  7.37453457e-02,\n",
       "        -3.06237609e-01, -2.48939296e-01,  1.26173834e+00,\n",
       "        -4.72341863e-01],\n",
       "       [-9.14114823e-02, -1.65238708e-01, -1.16824818e+00,\n",
       "        -1.59765531e+00, -1.13002541e+00, -2.33614671e-01,\n",
       "        -9.64625432e-01],\n",
       "       [ 8.28365247e-01,  7.40962163e-01,  8.62284281e-01,\n",
       "         1.29198098e+00,  1.31727612e+00,  8.17618719e-01,\n",
       "         2.57124279e+00],\n",
       "       [-2.72139542e-01, -3.58905269e-01, -2.34517948e-01,\n",
       "        -2.77697991e-01, -3.05903486e-01, -4.99184676e-01,\n",
       "         4.59678152e-01],\n",
       "       [-7.65914417e-01, -7.03605308e-01, -6.19131837e-01,\n",
       "        -5.20284742e-01, -4.68663273e-02, -6.57895443e-01,\n",
       "         7.11060093e-02],\n",
       "       [ 1.18616944e-02, -6.70834714e-02,  1.19128919e+00,\n",
       "         1.64872621e+00,  8.98139602e-01, -3.22954737e-02,\n",
       "         9.49196083e-01],\n",
       "       [-5.26840411e-02, -1.42104477e-01, -6.08045802e-01,\n",
       "        -5.30987099e-01, -5.70337252e-01, -1.63502386e-01,\n",
       "        -4.46068302e-01],\n",
       "       [ 1.50635026e-01,  9.75000566e-02,  1.77598813e+00,\n",
       "         4.85736784e-01,  2.26587978e+00,  3.54336580e-01,\n",
       "        -1.66738861e-01],\n",
       "       [-6.69095814e-01, -6.47422176e-01, -5.12562856e-01,\n",
       "         6.99783917e-01, -8.11385719e-01, -6.44594399e-01,\n",
       "        -2.75981563e-01],\n",
       "       [-1.85002799e-01, -2.58767098e-01, -8.83766219e-01,\n",
       "        -6.91522448e-01, -8.42566117e-01, -3.81955132e-01,\n",
       "        -7.19866466e-01],\n",
       "       [-6.27141086e-01, -5.80332907e-01,  8.96257614e-01,\n",
       "         1.74147996e+00,  1.98285770e+00,  1.94724047e-01,\n",
       "         2.48412519e+00],\n",
       "       [-1.12737054e+00, -9.74275809e-01, -4.45152611e-01,\n",
       "        -7.84276206e-01, -4.54610003e-01, -1.00259539e+00,\n",
       "        -1.02132101e+00],\n",
       "       [-1.03700651e+00, -9.09830452e-01, -1.01661983e+00,\n",
       "         1.99476907e+00, -1.08769202e+00, -9.82981986e-01,\n",
       "        -3.67247618e-01],\n",
       "       [ 1.33182198e+00,  1.24859328e+00,  2.79161197e+00,\n",
       "         1.07079895e+00,  2.06800418e+00,  1.13098231e+00,\n",
       "         3.87771563e-01],\n",
       "       [-4.30276593e-01, -4.59704417e-01,  1.22526252e+00,\n",
       "         9.78045190e-01,  1.66745598e+00, -1.36900297e-01,\n",
       "         1.41105763e+00],\n",
       "       [-1.66697288e+00, -1.29451966e+00, -8.71786149e-01,\n",
       "        -4.63205506e-01, -7.37032460e-01, -1.18903545e+00,\n",
       "         3.53201088e-01],\n",
       "       [-3.65730858e-01, -4.31612851e-01,  5.70828847e-01,\n",
       "        -6.13038500e-01,  8.23786344e-01, -3.80151601e-01,\n",
       "         3.67029278e-01],\n",
       "       [-7.78823565e-01, -7.27731006e-01, -9.18991200e-01,\n",
       "         7.14053726e-01, -8.97851363e-01, -7.73321456e-01,\n",
       "         4.18193582e-01],\n",
       "       [-5.56140777e-01, -5.64799923e-01, -7.78448887e-01,\n",
       "        -9.19839390e-01, -6.69275055e-01, -5.40440458e-01,\n",
       "        -1.16957377e-01],\n",
       "       [-6.82004961e-01, -6.60972226e-01, -1.24194020e-01,\n",
       "         1.64666084e-01,  2.97317304e-01, -5.67493430e-01,\n",
       "         3.33841622e-01],\n",
       "       [-7.04595969e-01, -6.57667336e-01, -7.97402430e-01,\n",
       "         4.35792453e-01, -6.63878448e-01, -7.34545530e-01,\n",
       "         3.86388744e-01],\n",
       "       [-1.21127999e+00, -1.02087476e+00, -1.11496369e+00,\n",
       "        -6.52280474e-01, -1.05459283e+00, -9.60437843e-01,\n",
       "        -8.51234273e-01],\n",
       "       [ 3.15226651e-01,  1.73512529e-01, -4.23338155e-01,\n",
       "        -1.04113277e+00, -2.75322710e-01,  1.76914174e-01,\n",
       "         1.99708177e-01],\n",
       "       [ 1.99044327e-01,  9.88220126e-02, -8.80547692e-01,\n",
       "        -3.77586653e-01, -6.04515766e-01, -1.52681198e-01,\n",
       "        -8.56765549e-01],\n",
       "       [ 3.82999673e-01,  2.44567667e-01, -8.57481587e-01,\n",
       "        -1.06253748e+00, -8.80642181e-01, -4.55965181e-02,\n",
       "        -4.40537026e-01],\n",
       "       [-9.43415190e-01, -8.45054605e-01, -1.05863948e+00,\n",
       "        -5.41689455e-01, -1.03936240e+00, -8.79278928e-01,\n",
       "        -7.00507000e-01],\n",
       "       [-4.27473950e-03, -1.10708021e-01, -7.02098292e-01,\n",
       "        -7.87843658e-01, -8.37169510e-01, -3.18380649e-01,\n",
       "        -1.95778060e-01],\n",
       "       [ 1.34473113e+00,  1.20893460e+00, -6.12515977e-01,\n",
       "         1.12787818e+00, -7.59218513e-01,  1.03404249e+00,\n",
       "         2.65144629e+00],\n",
       "       [ 5.41136725e-01,  3.98906035e-01,  9.65992350e-01,\n",
       "         5.46383471e-01,  6.68483974e-01,  6.75590618e-01,\n",
       "         3.47669812e-01],\n",
       "       [-7.62687131e-01, -7.60449418e-01,  3.26187442e+00,\n",
       "         2.79744582e+00,  3.71456908e+00, -5.28942945e-01,\n",
       "         5.07967647e+00],\n",
       "       [-1.53433140e+00, -1.20859252e+00,  7.12086389e-01,\n",
       "         1.06366404e+00,  1.13738920e+00, -1.07676562e+00,\n",
       "         1.74708265e+00],\n",
       "       [ 2.40999055e-01,  1.43768518e-01, -4.19762015e-01,\n",
       "        -1.21237047e+00,  1.08436043e-01,  6.35171342e-02,\n",
       "        -6.82530353e-01],\n",
       "       [-1.04745272e-03, -1.00132373e-01, -6.13231205e-01,\n",
       "        -1.45495722e+00, -8.37769133e-01, -2.15804798e-01,\n",
       "        -1.52881559e+00]])"
      ]
     },
     "execution_count": 8,
     "metadata": {},
     "output_type": "execute_result"
    }
   ],
   "source": [
    "# I did not exhaustively check every possible combination of non-error features to include in my model, but this \n",
    "# particular set of features yields a model with a very good accuracy score:\n",
    "\n",
    "features_2 = all_features[['mean radius', 'mean area', 'mean compactness', 'mean symmetry',\\\n",
    "                           'worst compactness', 'worst area','worst symmetry']]\n",
    "\n",
    "feat_train_2, feat_test_2, targ_train_2, targ_test_2 = train_test_split(features_2, targets, train_size = 0.8, \\\n",
    "                                                                        test_size = 0.2, random_state = 1)\n",
    "\n",
    "# Let's make sure this data is scaled:\n",
    "stdscale = StandardScaler()\n",
    "stdscale.fit_transform(feat_train_2)\n",
    "stdscale.fit_transform(feat_test_2)"
   ]
  },
  {
   "cell_type": "markdown",
   "metadata": {},
   "source": [
    "The output for the cell above has been toggled/hidden.\n",
    "\n",
    "Now that we've selected a set of features for our logistic regression model, and made sure they were scaled, let's build it and see how it performs:"
   ]
  },
  {
   "cell_type": "code",
   "execution_count": 9,
   "metadata": {},
   "outputs": [
    {
     "name": "stdout",
     "output_type": "stream",
     "text": [
      "Training score:  0.945054945054945\n",
      "Test score:  0.9473684210526315\n",
      "The number of successes was 108, and the number of failures was 6\n"
     ]
    },
    {
     "data": {
      "text/plain": [
       "Text(0.5, 1.0, 'Number of Successful and Failed Model Predictions')"
      ]
     },
     "execution_count": 9,
     "metadata": {},
     "output_type": "execute_result"
    },
    {
     "data": {
      "image/png": "[encoded data removed]",
      "text/plain": [
       "<Figure size 432x432 with 1 Axes>"
      ]
     },
     "metadata": {
      "needs_background": "light"
     },
     "output_type": "display_data"
    }
   ],
   "source": [
    "# Build the model:\n",
    "bc_l_r_2 = LogisticRegression()\n",
    "bc_l_r_2.fit(feat_train_2, targ_train_2)\n",
    "\n",
    "# Determine the accuracy:\n",
    "train_score_2 = bc_l_r_2.score(feat_train_2, targ_train_2)\n",
    "print('Training score: ', train_score_2)\n",
    "\n",
    "# Predict targets for the feature test set:\n",
    "targ_predict_2 = bc_l_r_2.predict(feat_test_2)\n",
    "\n",
    "# Determine the accuracy:\n",
    "test_score_2 = bc_l_r_2.score(feat_test_2, targ_test_2)\n",
    "print('Test score: ', test_score_2)\n",
    "\n",
    "# Initialize an empty array:\n",
    "results_2=[]\n",
    "\n",
    "# Loop through masses in the test set to see which classifications were correct, and which ones weren't:\n",
    "for i in range(len(targ_predict_2)):\n",
    "    if targ_predict_2[i] == targ_test_2.iloc[i]:\n",
    "        results_2.append('successful')\n",
    "    else:\n",
    "        results_2.append('unsuccessful')\n",
    "\n",
    "# Count up the number of successes and the number of failures:\n",
    "success_count_2 = results_2.count('successful')\n",
    "fails_count_2 = results_2.count('unsuccessful')\n",
    "\n",
    "# Gather arrays to be used in plotting a bar graph of the results:\n",
    "options = ['successful', 'failed']\n",
    "test_counts_2 =[success_count_2, fails_count_2]\n",
    "\n",
    "print('The number of successes was {}, and the number of failures was {}'.format(success_count_2,fails_count_2))\n",
    "        \n",
    "# Plot the bar graph of results:\n",
    "\n",
    "plt.figure(figsize=(6,6))\n",
    "plt.bar(options, test_counts_2)\n",
    "plt.xlabel('outcome')\n",
    "plt.ylabel('number of predictions')\n",
    "plt.title('Number of Successful and Failed Model Predictions')"
   ]
  },
  {
   "cell_type": "code",
   "execution_count": 10,
   "metadata": {},
   "outputs": [
    {
     "data": {
      "image/png": "[encoded data removed]",
      "text/plain": [
       "<Figure size 432x288 with 1 Axes>"
      ]
     },
     "metadata": {
      "needs_background": "light"
     },
     "output_type": "display_data"
    }
   ],
   "source": [
    "# Code again borrowed from Codecademy to take a look at the model coefficients:\n",
    "coefficients = bc_l_r_2.coef_\n",
    "coefficients = coefficients.tolist()[0]\n",
    "\n",
    "# Plot a bar graph of coefficients:\n",
    "plt.bar([1,2,3,4,5,6,7],coefficients)\n",
    "plt.xticks([1,2,3,4,5,6,7],['mean radius', 'mean area', 'mean compactness', 'mean symmetry',\\\n",
    "                           'worst compactness', 'worst area','worst symmetry'], rotation = 90)\n",
    "plt.xlabel('feature')\n",
    "plt.ylabel('coefficient')\n",
    "plt.title('Coefficients of Model Features')\n",
    "plt.show()"
   ]
  },
  {
   "cell_type": "markdown",
   "metadata": {},
   "source": [
    "Again, \"mean radius\" and \"worst compactness\" are the most important features, and \"mean area\" is the least important. Interestingly, when I tried to remove \"mean area\" from the list of model features, the model performed worse. Perhaps there is some underlying degeneracy with some other model feature that I am not seeing which causes its absence to degrade model performance."
   ]
  },
  {
   "cell_type": "markdown",
   "metadata": {},
   "source": [
    "# Conclusions\n",
    "\n",
    "We used the Scikit-Learn breast cancer data set to get some practice building a logistic regression model. The best model I was able to construct was one whose features included \"mean radius\", \"mean area\", \"mean compactness\", \"mean symmetry\", \"worst compactness\", \"worst area\", and \"worst symmetry;\" this model had an accuracy of 94.7%, and misclassified only 6 masses in the test set. \n",
    "\n",
    "# Limitations\n",
    "\n",
    "As I mentioned above, I did not exhaustively try every combination of non-error features possible to try to determine what the absolute \"best\" model for this data is. So, there could well be a set of features which results in a better model that I did not find. Also, as the Scikit-Learn folks mentioned, this is a relatively small data set so changing the random state (which determines which rows end up in the train set and which rows end up in the test set) will doubtless impact model performance. Also, since this is a small data set, the model built herein should in no way, shape, or form be construed as the best way to tell if a patient has breast cancer given measurements from a fine needle aspirate imaging method. This model was built for the purposes of practicing logistic regression and has no broader applications other than serving as a practice exercise."
   ]
  },
  {
   "cell_type": "code",
   "execution_count": null,
   "metadata": {},
   "outputs": [],
   "source": []
  }
 ],
 "metadata": {
  "kernelspec": {
   "display_name": "Python 3",
   "language": "python",
   "name": "python3"
  },
  "language_info": {
   "codemirror_mode": {
    "name": "ipython",
    "version": 3
   },
   "file_extension": ".py",
   "mimetype": "text/x-python",
   "name": "python",
   "nbconvert_exporter": "python",
   "pygments_lexer": "ipython3",
   "version": "3.8.3"
  }
 },
 "nbformat": 4,
 "nbformat_minor": 4
}
