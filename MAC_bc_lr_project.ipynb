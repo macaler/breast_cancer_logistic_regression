{
 "cells": [
  {
   "cell_type": "markdown",
   "metadata": {},
   "source": [
    "# Breat Cancer Detection Logistic Regression Practice Project\n",
    "\n",
    "So here's a cute little project that I did after an idle prompt at the end of Codecademy's Logistic Regression lesson. They recommended finding a data set for binary classification to practice building logistic regression models, and suggested the Scikit-Learn breast cancer data set in particular. I happen to have an old friend who worked on breast cancer detection techniques in the past, and more speciically machine learning methods to detect breat cancer given a particular set of measurements, so I figured I'd give this project a go.\n",
    "\n",
    "First off: let's give some credit to the folks who compiled the data set I'm about to use and to the scikit-learn folks who made it available through their open-source software package.\n",
    "\n",
    "Let's start with a citation to the Scikit-Learn folks: <br>\n",
    "Scikit-learn: Machine Learning in Python, Pedregosa et al., JMLR 12, pp. 2825-2830, 2011<br>\n",
    "and, of course, their main website: https://scikit-learn.org/stable/index.html<br>\n",
    "As documented on https://scikit-learn.org/stable/datasets/index.html#breast-cancer-dataset, the breast cancer data used in this project comes from UCI ML Breast Cancer Wisconsin (Diagnostic) datasets (https://goo.gl/U2Uwz2); the quoted website says that the data is also available through the UW CS ftp server ftp.cs.wisc.edu cd math-prog/cpo-dataset/machine-learn/WDBC/.<br>\n",
    "I refer the reader to the Scikit-Learn documentation for an explanation of what the features are and the papers they cited."
   ]
  },
  {
   "cell_type": "markdown",
   "metadata": {},
   "source": [
    "# Import the data and get it ready for modeling\n",
    "\n",
    "Now that I've given some credit to those who compiled the data I'm about to use, we can get started. We'll need to import a fair number of packages, as well as the data itself:"
   ]
  },
  {
   "cell_type": "code",
   "execution_count": 1,
   "metadata": {
    "collapsed": true
   },
   "outputs": [],
   "source": [
    "# Importing packages and the data to be used:\n",
    "\n",
    "from sklearn.datasets import load_breast_cancer\n",
    "\n",
    "import pandas as pd\n",
    "import numpy as np\n",
    "import matplotlib.pyplot as plt\n",
    "from sklearn.preprocessing import StandardScaler\n",
    "from sklearn.model_selection import train_test_split\n",
    "from sklearn.linear_model import LogisticRegression"
   ]
  },
  {
   "cell_type": "markdown",
   "metadata": {},
   "source": [
    "From Scikit-Learn datasets, we've imported the breast cancer data. The default when one loads a Scikit-Learn data set seems to be an object called a \"bunch,\" although there is an option to import the data as a DataFrame so I will use that:"
   ]
  },
  {
   "cell_type": "code",
   "execution_count": 2,
   "metadata": {
    "collapsed": true
   },
   "outputs": [],
   "source": [
    "breast_cancer_data = load_breast_cancer(as_frame = True)"
   ]
  },
  {
   "cell_type": "markdown",
   "metadata": {},
   "source": [
    "The resulting DataFrame seems to either be a dictionary or contain a dictionary. I did manage to figure out how to get just the features by themselves, and just the targets by themselves, and convert them into Pandas DataFrames to make them easier to work with."
   ]
  },
  {
   "cell_type": "code",
   "execution_count": 3,
   "metadata": {},
   "outputs": [
    {
     "data": {
      "text/html": [
       "<div>\n",
       "<style scoped>\n",
       "    .dataframe tbody tr th:only-of-type {\n",
       "        vertical-align: middle;\n",
       "    }\n",
       "\n",
       "    .dataframe tbody tr th {\n",
       "        vertical-align: top;\n",
       "    }\n",
       "\n",
       "    .dataframe thead th {\n",
       "        text-align: right;\n",
       "    }\n",
       "</style>\n",
       "<table border=\"1\" class=\"dataframe\">\n",
       "  <thead>\n",
       "    <tr style=\"text-align: right;\">\n",
       "      <th></th>\n",
       "      <th>target</th>\n",
       "    </tr>\n",
       "  </thead>\n",
       "  <tbody>\n",
       "    <tr>\n",
       "      <th>0</th>\n",
       "      <td>0</td>\n",
       "    </tr>\n",
       "    <tr>\n",
       "      <th>1</th>\n",
       "      <td>0</td>\n",
       "    </tr>\n",
       "    <tr>\n",
       "      <th>2</th>\n",
       "      <td>0</td>\n",
       "    </tr>\n",
       "    <tr>\n",
       "      <th>3</th>\n",
       "      <td>0</td>\n",
       "    </tr>\n",
       "    <tr>\n",
       "      <th>4</th>\n",
       "      <td>0</td>\n",
       "    </tr>\n",
       "    <tr>\n",
       "      <th>...</th>\n",
       "      <td>...</td>\n",
       "    </tr>\n",
       "    <tr>\n",
       "      <th>564</th>\n",
       "      <td>0</td>\n",
       "    </tr>\n",
       "    <tr>\n",
       "      <th>565</th>\n",
       "      <td>0</td>\n",
       "    </tr>\n",
       "    <tr>\n",
       "      <th>566</th>\n",
       "      <td>0</td>\n",
       "    </tr>\n",
       "    <tr>\n",
       "      <th>567</th>\n",
       "      <td>0</td>\n",
       "    </tr>\n",
       "    <tr>\n",
       "      <th>568</th>\n",
       "      <td>1</td>\n",
       "    </tr>\n",
       "  </tbody>\n",
       "</table>\n",
       "<p>569 rows × 1 columns</p>\n",
       "</div>"
      ],
      "text/plain": [
       "     target\n",
       "0         0\n",
       "1         0\n",
       "2         0\n",
       "3         0\n",
       "4         0\n",
       "..      ...\n",
       "564       0\n",
       "565       0\n",
       "566       0\n",
       "567       0\n",
       "568       1\n",
       "\n",
       "[569 rows x 1 columns]"
      ]
     },
     "execution_count": 3,
     "metadata": {},
     "output_type": "execute_result"
    }
   ],
   "source": [
    "# First, import the features:\n",
    "all_features = breast_cancer_data.data\n",
    "pd.DataFrame(all_features)\n",
    "#print(all_features.columns)\n",
    "\n",
    "# Then import the targets:\n",
    "targets = breast_cancer_data.target\n",
    "pd.DataFrame(targets)\n",
    "# From the original breast_cancer_data bunch: target_names are 'malignant' and 'benign'. \n",
    "# '0' is malignant; '1' is benign\n",
    "#print(targets)"
   ]
  },
  {
   "cell_type": "markdown",
   "metadata": {},
   "source": [
    "For some reason, when I convert 'target' to a DataFrame, the entire Series is automatically printed out. I've toggled this output to be hidden in the above. And I will also admit to a bit of puzzlement as to why the 'target' data bunch was called 'target': it's really the benign/malignant classification of the particular cell being measured."
   ]
  },
  {
   "cell_type": "markdown",
   "metadata": {},
   "source": [
    "# Build the initial model\n",
    "Now that we have the data in DataFrames, we can start to pluck off the features we want to incorporate in our logistic regression model. While the errors in the reported measurements are valuable information, they aren't of much use to us at the moment so I will leave them out of the list of features we will be considering. I will start off by considering a broad set of features, and will trim the number of model features if needs be. Let's assume that the 'mean' values are more important than 'worse' values, and keep all the 'mean' values and as many 'worst' values as we can without causing the logistic regression algorithm to fail to converge:"
   ]
  },
  {
   "cell_type": "code",
   "execution_count": 4,
   "metadata": {
    "collapsed": true
   },
   "outputs": [],
   "source": [
    "# using all of the non-error features causes the logistic regression algorithm to fail to converge.\n",
    "# features_1 = all_features[['mean radius', 'mean texture', 'mean perimeter', 'mean area', 'mean smoothness',\\\n",
    "#                          'mean compactness', 'mean concavity', 'mean concave points', 'mean symmetry',\\\n",
    "#                          'mean fractal dimension', 'worst radius', 'worst texture', 'worst perimeter', \\\n",
    "#                          'worst area', 'worst smoothness', 'worst compactness', 'worst concavity', \\\n",
    "#                          'worst concave points', 'worst symmetry', 'worst fractal dimension']]\n",
    "\n",
    "# including more 'worst' values than this seems cause the logistic regression algorithm to fail to converge:\n",
    "features_1 = all_features[['mean radius', 'mean texture', 'mean perimeter', 'mean area', 'mean smoothness',\\\n",
    "                         'mean compactness', 'mean concavity', 'mean concave points', 'mean symmetry',\\\n",
    "                         'worst compactness']]"
   ]
  },
  {
   "cell_type": "markdown",
   "metadata": {},
   "source": [
    "If we're going to be building a supervised machine learning model, it needs to be trained. So, let's split our features and targets up into training and test sets. I will use what seems to be the usual split of 80% training, 20% test. And, I will pick a random state so that I can keep the same splitting of feature rows/target rows if/when I build a model with fewer features below."
   ]
  },
  {
   "cell_type": "code",
   "execution_count": 5,
   "metadata": {
    "collapsed": true
   },
   "outputs": [
    {
     "data": {
      "text/plain": [
       "array([[ 0.1318529 , -1.22289689,  0.22619275, ...,  0.34062714,\n",
       "         1.00887608,  0.69426554],\n",
       "       [-0.28874137, -0.15799931, -0.26406701, ...,  0.6047969 ,\n",
       "         1.16313403,  1.03762014],\n",
       "       [-0.34961686, -0.75871076, -0.3778201 , ..., -0.40362035,\n",
       "        -0.29864372, -0.31898616],\n",
       "       ...,\n",
       "       [-1.43458406, -0.46063046, -1.35313261, ..., -0.14834092,\n",
       "         1.10069629,  1.16629729],\n",
       "       [ 0.08757982, -0.00327061,  0.06717876, ..., -0.51665453,\n",
       "        -1.24255549,  0.05669938],\n",
       "       [-0.11995025, -0.81104547, -0.16833819, ..., -1.00722285,\n",
       "        -1.49230646, -0.96366514]])"
      ]
     },
     "execution_count": 5,
     "metadata": {},
     "output_type": "execute_result"
    }
   ],
   "source": [
    "feat_train_1, feat_test_1, targ_train_1, targ_test_1 = train_test_split(features_1, targets, train_size = 0.8, \\\n",
    "                                                                        test_size = 0.2, random_state = 1)\n",
    "\n",
    "# We should make sure the data is appropriately scaled before building our logistic regression model, and to do the\n",
    "# scaling we will make use of Scikit-Learn's StandardScaler standardization function:\n",
    "stdscale = StandardScaler()\n",
    "stdscale.fit_transform(feat_train_1)\n",
    "stdscale.transform(feat_test_1)"
   ]
  },
  {
   "cell_type": "markdown",
   "metadata": {},
   "source": [
    "When I use the .fit_transform() and .transform() functions, the resulting arrays are for some reason automatically printed out, so the output for the above cell has been toggled.\n",
    "\n",
    "Now that we have training and test sets, and have scaled the feature data, we can build the logistic regression model. We will use Scikit-Learn's LogisticRegression function to do so."
   ]
  },
  {
   "cell_type": "code",
   "execution_count": 6,
   "metadata": {},
   "outputs": [
    {
     "name": "stdout",
     "output_type": "stream",
     "text": [
      "Training score:  0.9274725274725275\n",
      "Test score:  0.9035087719298246\n",
      "The number of successes was 103, and the number of failures was 11\n"
     ]
    },
    {
     "data": {
      "text/plain": [
       "Text(0.5, 1.0, 'Number of Successful and Failed Model Predictions')"
      ]
     },
     "execution_count": 6,
     "metadata": {},
     "output_type": "execute_result"
    },
    {
     "data": {
      "image/png": "[encoded data removed]",
      "text/plain": [
       "<Figure size 432x432 with 1 Axes>"
      ]
     },
     "metadata": {
      "needs_background": "light"
     },
     "output_type": "display_data"
    }
   ],
   "source": [
    "# First build the logistic regression model:\n",
    "bc_l_r_1 = LogisticRegression()\n",
    "bc_l_r_1.fit(feat_train_1, targ_train_1)\n",
    "\n",
    "# Figure out what the training accuracy is:\n",
    "train_score_1 = bc_l_r_1.score(feat_train_1, targ_train_1)\n",
    "print('Training score: ', train_score_1)\n",
    "# So, this model has correctly classified 92.7% of the data. That's not too bad at all!\n",
    "\n",
    "# Now let's predict what the targets for the features we set aside in the test set should be:\n",
    "targ_predict_1 = bc_l_r_1.predict(feat_test_1)\n",
    "\n",
    "# Get the test accuracy:\n",
    "test_score_1 = bc_l_r_1.score(feat_test_1, targ_test_1)\n",
    "print('Test score: ', test_score_1)\n",
    "# All in all, correctly classifying 90.4% of data that the model has never \"seen\" is not that bad!\n",
    "\n",
    "# If we wanted to look at a specific row in the test set to see if the the prediction for that particular cell\n",
    "# was correct or not, we'll need to loop through all cells in the test set to see how the actual classification\n",
    "# compares with our model's prediction:\n",
    "\n",
    "# An empty array:\n",
    "results_1=[]\n",
    "\n",
    "# Loop over cells to see if the predicted classfication and actual classification match up:\n",
    "for i in range(len(targ_predict_1)):\n",
    "    if targ_predict_1[i] == targ_test_1.iloc[i]:\n",
    "        results_1.append('successful')\n",
    "    else:\n",
    "        results_1.append('unsuccessful')\n",
    "\n",
    "# Count the number of successes and the number of failures:\n",
    "success_count_1 = results_1.count('successful')\n",
    "fails_count_1 = results_1.count('unsuccessful')\n",
    "\n",
    "# Let's set these success/failure counts up for a bar graph visualization. We have two options: The predicted\n",
    "# classification was successful -- it matched the actual classification -- or it failed. Set up an array stating\n",
    "# these options, and gather up the counts.\n",
    "options = ['successful', 'failed']\n",
    "test_counts_1 =[success_count_1, fails_count_1]\n",
    "\n",
    "print('The number of successes was {}, and the number of failures was {}'.format(success_count_1,fails_count_1))\n",
    "     \n",
    "# Now plot a histogram to visualize the success/failure counts:\n",
    "plt.figure(figsize=(6,6))\n",
    "plt.bar(options, test_counts_1)\n",
    "plt.ylabel('number of predictions')\n",
    "plt.xlabel('outcome')\n",
    "plt.title('Number of Successful and Failed Model Predictions')"
   ]
  },
  {
   "cell_type": "markdown",
   "metadata": {},
   "source": [
    "A 90.4% accuracy rate is not too bad at all!"
   ]
  },
  {
   "cell_type": "code",
   "execution_count": 7,
   "metadata": {},
   "outputs": [
    {
     "data": {
      "image/png": "[encoded data removed]",
      "text/plain": [
       "<Figure size 432x288 with 1 Axes>"
      ]
     },
     "metadata": {
      "needs_background": "light"
     },
     "output_type": "display_data"
    }
   ],
   "source": [
    "# The below code I borrowed from Codecademy. If we wanted to look at how the coefficients used in the logistic \n",
    "# regression analysis compare to each other, with big numbers (in absolute value) having a big impact on the\n",
    "# probability that a cell belongs to the 'benign' class, and small numbers having a smaller impact, we\n",
    "# could do:\n",
    "coefficients = bc_l_r_1.coef_\n",
    "coefficients = coefficients.tolist()[0]\n",
    "\n",
    "# and plot a bar graph:\n",
    "plt.bar([1,2,3,4,5,6,7,8,9,10],coefficients)\n",
    "plt.xticks([1,2,3,4,5,6,7,8,9,10],['mean radius', 'mean texture', 'mean perimeter', 'mean area', 'mean smoothness',\\\n",
    "                                   'mean compactness', 'mean concavity', 'mean concave points', 'mean symmetry',\\\n",
    "                                   'worst compactness'], rotation = 90)\n",
    "plt.xlabel('feature')\n",
    "plt.ylabel('coefficient')\n",
    "\n",
    "plt.show()"
   ]
  },
  {
   "cell_type": "markdown",
   "metadata": {},
   "source": [
    "In the model I constructed above, 'mean radius' and 'worst compactness' have the biggest impact on classification probabilities. Mean area has the smallest impact."
   ]
  },
  {
   "cell_type": "markdown",
   "metadata": {},
   "source": [
    "# Building a better model\n",
    "As I mentioned above, I have an old friend who used to work on machine learning methods for breast cancer detection, so I have an educated guess about what sorts of features are most important when trying to classify a given cell as benign or malignant. Symmetry and compactness will be very important, and I think radius and area will be as well. I'm also going to play around a bit with including \"worst\" measurements in addition to \"mean\" measurements. Let us use these educated guesses to see if we can build a better model:"
   ]
  },
  {
   "cell_type": "code",
   "execution_count": 8,
   "metadata": {
    "collapsed": true
   },
   "outputs": [
    {
     "data": {
      "text/plain": [
       "array([[ 1.31852898e-01, -2.34206920e-02,  1.51274076e+00,\n",
       "         1.00887608e+00,  6.94265543e-01, -1.53047819e-01,\n",
       "        -9.82723318e-02],\n",
       "       [-2.88741373e-01, -3.58866675e-01,  3.47480894e-01,\n",
       "         1.16313403e+00,  1.03762014e+00, -2.36812357e-01,\n",
       "         1.72716717e+00],\n",
       "       [-3.49616860e-01, -4.16568905e-01, -4.93624864e-01,\n",
       "        -2.98643722e-01, -3.18986164e-01, -5.29483636e-01,\n",
       "         8.42518018e-01],\n",
       "       [ 1.13353136e+00,  1.03923905e+00, -3.92507272e-01,\n",
       "        -6.98979841e-01, -7.52108652e-02,  8.57509103e-01,\n",
       "         5.46500801e-01],\n",
       "       [ 2.53603872e-01,  1.51618611e-01, -1.13654014e+00,\n",
       "         1.49438907e-01, -1.01823977e+00,  5.24948839e-02,\n",
       "         5.92434507e-01],\n",
       "       [ 5.38611832e-01,  4.00925378e-01,  4.49561511e-01,\n",
       "         1.28066390e+00,  3.19226621e-01,  4.62234674e-01,\n",
       "         1.01264285e+00],\n",
       "       [ 1.37703331e+00,  1.35950024e+00,  2.58882624e-01,\n",
       "        -2.58242829e-01, -3.52610343e-01,  1.00048070e+00,\n",
       "        -7.51551706e-01],\n",
       "       [ 1.06988881e+00,  9.92304222e-01, -3.58994013e-01,\n",
       "        -1.51731385e-01, -3.86881141e-01,  5.51381673e-01,\n",
       "        -8.77444086e-01],\n",
       "       [-1.03308255e+00, -9.02482428e-01, -8.73441799e-01,\n",
       "        -2.72934063e-01, -9.92762985e-01, -8.36620277e-01,\n",
       "        -3.00242295e-03],\n",
       "       [ 8.75798173e-02, -5.62750722e-02, -2.43431051e-01,\n",
       "        -5.92468396e-01, -7.00491274e-01, -2.52791536e-01,\n",
       "        -4.74248222e-01],\n",
       "       [-8.78126767e-01, -8.04471462e-01, -5.20396950e-01,\n",
       "        -3.57408657e-01, -6.97904799e-01, -7.21233784e-01,\n",
       "         1.92641140e-01],\n",
       "       [-6.50048029e-03, -1.48764294e-01,  4.91934597e-01,\n",
       "         1.55612454e+00,  9.68431927e-01, -1.49515579e-01,\n",
       "         3.12899583e+00],\n",
       "       [ 5.60748373e-01,  3.87949279e-01,  1.44725508e+00,\n",
       "         2.37586309e-01,  1.38679431e+00,  2.20023961e-01,\n",
       "        -1.95243489e-01],\n",
       "       [-5.12873847e-01, -5.46329903e-01, -7.10883233e-01,\n",
       "        -7.68763201e-01, -3.86881141e-01, -5.98951014e-01,\n",
       "         1.67122414e-01],\n",
       "       [ 1.45688236e-01,  1.10902116e-02, -6.34033863e-01,\n",
       "         1.05365205e-01, -7.66446395e-01, -1.24117095e-01,\n",
       "        -2.76903411e-01],\n",
       "       [-3.68986333e-01, -4.73442875e-01,  1.17568212e+00,\n",
       "        -3.75772699e-01,  2.58444451e-01, -3.79279353e-01,\n",
       "        -5.15078183e-01],\n",
       "       [-5.57146928e-01, -5.70625579e-01, -7.62886565e-01,\n",
       "        -6.36542097e-01, -4.09512800e-01, -5.33352280e-01,\n",
       "        -3.80679561e-01],\n",
       "       [-7.01034442e-01, -6.73882203e-01, -2.39386348e-01,\n",
       "         1.53111715e-01, -7.01137893e-01, -5.89363507e-01,\n",
       "        -1.37401044e-01],\n",
       "       [-1.00817894e+00, -9.00825904e-01,  1.17375607e+00,\n",
       "         1.38350254e+00,  6.83919641e-01, -9.22235036e-01,\n",
       "        -4.89559457e-01],\n",
       "       [ 1.73398502e+00,  1.77087021e+00, -4.15619865e-01,\n",
       "        -1.26459234e+00, -1.61857788e-01,  1.42939551e+00,\n",
       "        -1.10030762e+00],\n",
       "       [-4.02191144e-01, -4.63779822e-01, -4.91891420e-01,\n",
       "        -1.92132277e-01, -4.67061876e-01, -5.39071144e-01,\n",
       "        -2.39475947e-01],\n",
       "       [-7.31472185e-01, -7.03699623e-01, -5.36190555e-01,\n",
       "         8.06871615e-01, -4.03693231e-01, -6.38646659e-01,\n",
       "         2.55587330e-01],\n",
       "       [ 1.48771601e+00,  1.45336989e+00, -1.22282546e-01,\n",
       "        -5.44721887e-01, -4.63182163e-01,  8.76011310e-01,\n",
       "        -1.00673896e+00],\n",
       "       [-4.04958211e-01, -4.71510264e-01,  1.27911267e-01,\n",
       "         1.13375157e+00, -3.76535240e-01, -4.64389507e-01,\n",
       "         3.16832271e-01],\n",
       "       [ 1.56756507e-01,  1.02619499e-02,  8.25141137e-01,\n",
       "         5.20392558e-01,  5.52656019e-01,  4.18981652e-02,\n",
       "         7.42144364e-01],\n",
       "       [-8.06183010e-01, -7.59745331e-01,  5.28529535e-01,\n",
       "         8.91346209e-01,  1.47861418e+00, -7.18710756e-01,\n",
       "         7.20028135e-01],\n",
       "       [ 1.04182223e-01, -2.06598197e-02,  5.38159782e-01,\n",
       "        -1.31233885e+00,  3.94234405e-01, -2.80376645e-01,\n",
       "        -1.06628266e+00],\n",
       "       [ 1.17503737e+00,  1.13310871e+00,  4.64410717e-03,\n",
       "         1.17782527e+00, -3.05407169e-01,  1.18213874e+00,\n",
       "         1.37841125e+00],\n",
       "       [ 3.59898857e+00,  4.37713364e+00,  1.66297261e+00,\n",
       "        -4.15471318e-02,  9.52266456e-01,  3.89523514e+00,\n",
       "        -4.89361290e-02],\n",
       "       [ 7.73812576e-01,  6.61827809e-01, -6.16699419e-01,\n",
       "         7.88507573e-01, -6.95318323e-01,  5.21105334e-01,\n",
       "         6.63886939e-01],\n",
       "       [ 2.03282832e+00,  2.24850111e+00,  2.08805340e-01,\n",
       "        -3.13334956e-01, -2.89888317e-01,  1.89531473e+00,\n",
       "        -1.40312983e+00],\n",
       "       [-8.72592631e-01, -8.02538851e-01, -2.71358767e-01,\n",
       "        -1.29694534e-01, -2.27166290e-01, -7.74049176e-01,\n",
       "         7.08119396e-01],\n",
       "       [ 5.30310629e-01,  3.70555783e-01,  1.87098594e+00,\n",
       "         1.29535514e+00,  1.08094360e+00,  6.97717313e-01,\n",
       "         1.39712499e+00],\n",
       "       [-6.46088994e-02, -1.79686063e-01,  1.58728056e-01,\n",
       "        -5.22685036e-01,  6.50942081e-01, -5.19584863e-02,\n",
       "         5.00567095e-01],\n",
       "       [-1.31393991e+00, -1.09105000e+00, -5.26367703e-01,\n",
       "        -3.46390232e-01, -5.80220172e-01, -9.57893836e-01,\n",
       "        -1.15086648e-02],\n",
       "       [-2.86370209e-02, -1.32751234e-01, -1.00152408e+00,\n",
       "        -1.60983633e+00, -9.39093622e-01, -2.52791536e-01,\n",
       "        -1.33507990e+00],\n",
       "       [ 1.02838279e+00,  9.23006328e-01, -6.70050986e-01,\n",
       "        -1.00382294e+00, -4.88400298e-01,  7.06127407e-01,\n",
       "        -6.47775556e-01],\n",
       "       [ 1.12483425e-01, -5.19893489e-03, -3.65927791e-01,\n",
       "        -4.63920101e-01, -5.14265051e-01, -1.62298922e-01,\n",
       "        -6.17153085e-01],\n",
       "       [-9.03030375e-01, -8.10269293e-01,  3.22442253e-01,\n",
       "         3.07369669e-01,  8.83836988e-02, -6.49579782e-01,\n",
       "         1.34798695e-01],\n",
       "       [-6.92733239e-01, -6.74434377e-01, -8.40698960e-01,\n",
       "        -1.08462473e+00, -9.83710322e-01, -6.36964640e-01,\n",
       "        -5.32090667e-01],\n",
       "       [-1.36098006e+00, -1.12307612e+00,  3.35924598e-01,\n",
       "         1.41655781e+00, -3.00234218e-01, -9.64790113e-01,\n",
       "         1.35459378e+00],\n",
       "       [-2.00195211e-01, -2.85979646e-01, -5.40813073e-01,\n",
       "        -8.49185597e-03, -5.49829087e-01, -3.38742699e-01,\n",
       "        -2.34174034e-02],\n",
       "       [-6.81664969e-01, -6.75814813e-01,  1.74136451e-01,\n",
       "         6.67304895e-01, -4.32791078e-01, -5.99287418e-01,\n",
       "         4.81853363e-01],\n",
       "       [-2.33400022e-01, -3.06686189e-01, -6.12654715e-01,\n",
       "        -1.42986872e+00, -1.96016459e-02, -4.50933356e-01,\n",
       "        -1.42354481e+00],\n",
       "       [-1.80825738e-01, -2.85151385e-01,  2.72364969e-01,\n",
       "         5.53447834e-01,  8.83836988e-02, -3.59263329e-01,\n",
       "         3.06624781e-01],\n",
       "       [ 3.06178156e-01,  1.34501203e-01,  2.37561088e+00,\n",
       "         2.15479231e+00,  1.25553069e+00,  4.81216349e-02,\n",
       "         6.34965716e-01],\n",
       "       [-1.80481770e+00, -1.36437636e+00,  2.85847315e-01,\n",
       "         8.28908466e-01,  3.25046191e-01, -1.13803805e+00,\n",
       "        -1.61218522e-01],\n",
       "       [-1.23729214e+00, -1.03445212e+00, -1.12036133e+00,\n",
       "         9.90512037e-01, -1.05031206e+00, -9.16684374e-01,\n",
       "        -7.44548546e-02],\n",
       "       [ 1.18017561e-01,  3.91194365e-03, -7.33418010e-01,\n",
       "        -1.47761523e+00, -3.17692927e-01, -1.16379808e-01,\n",
       "        -7.31136726e-01],\n",
       "       [ 9.28768360e-01,  8.02080121e-01,  2.04953241e-01,\n",
       "        -2.65588446e-01,  1.62098245e-01,  5.49699654e-01,\n",
       "        -2.19060966e-01],\n",
       "       [ 1.05051933e+00,  9.45369393e-01,  4.59191758e-01,\n",
       "         1.11906033e+00, -1.51511887e-01,  8.84421404e-01,\n",
       "         6.23056978e-01],\n",
       "       [ 1.04498520e+00,  9.28804159e-01,  3.32322717e+00,\n",
       "         2.23192129e+00,  2.64770103e+00,  1.88185858e+00,\n",
       "         2.91974228e+00],\n",
       "       [-4.38163022e-01, -5.08505953e-01,  3.05107808e-01,\n",
       "        -2.80279680e-01, -2.01301537e-01, -6.27040729e-01,\n",
       "        -1.12072260e+00],\n",
       "       [-4.51998360e-01, -4.84762451e-01, -1.21146346e+00,\n",
       "        -4.19846400e-01, -1.22787359e+00, -5.65310638e-01,\n",
       "        -6.46074307e-01],\n",
       "       [-1.23729214e+00, -1.03500430e+00, -4.18508939e-01,\n",
       "         2.66898549e+00, -7.81965247e-01, -8.73456490e-01,\n",
       "         5.29488317e-01],\n",
       "       [-8.67454400e-02, -1.79962151e-01, -9.99020218e-01,\n",
       "         6.19937775e-03, -3.59076532e-01, -3.04934120e-01,\n",
       "        -3.50057091e-01],\n",
       "       [-3.60685130e-01, -4.09114550e-01, -9.89967786e-01,\n",
       "         6.49643126e-02, -6.82385947e-01, -5.03916950e-01,\n",
       "         2.36873597e-01],\n",
       "       [ 1.27188474e+00,  1.20765226e+00, -8.90198429e-01,\n",
       "        -9.59749239e-01, -9.06116062e-01,  5.64837824e-01,\n",
       "        -5.40596908e-01],\n",
       "       [-1.53155062e-01, -2.31866550e-01, -5.69703814e-01,\n",
       "        -7.09295993e-02,  3.50910944e-01, -4.09051087e-01,\n",
       "         8.54426756e-01],\n",
       "       [-1.09395804e+00, -9.49141169e-01, -4.69934457e-01,\n",
       "        -5.22685036e-01, -2.03888012e-01, -9.12983933e-01,\n",
       "        -3.29642110e-01],\n",
       "       [-9.16865713e-01, -8.22141044e-01, -1.30738072e+00,\n",
       "        -1.35641255e+00, -1.11988825e+00, -7.23588611e-01,\n",
       "        -2.49683437e-01],\n",
       "       [-4.85203171e-01, -5.20929878e-01,  2.59132841e+00,\n",
       "         8.03198807e-01,  5.18503332e+00, -3.17549262e-01,\n",
       "         2.51994891e+00],\n",
       "       [ 2.03796655e-01,  6.87924424e-02,  2.24213735e-01,\n",
       "        -2.47224404e-01, -2.60678342e-02, -1.52206809e-01,\n",
       "        -5.57411225e-02],\n",
       "       [-2.61070697e-01, -3.11655759e-01, -1.04986792e+00,\n",
       "        -1.56208982e+00, -8.55679793e-01, -1.17052616e-01,\n",
       "        -1.45927103e+00],\n",
       "       [-2.80440170e-01, -3.39540569e-01, -1.15214114e+00,\n",
       "        -1.19113617e+00, -6.81092709e-01, -5.01562123e-01,\n",
       "        -2.00347234e-01],\n",
       "       [-6.29090685e-01, -6.17284321e-01, -7.62499662e-02,\n",
       "        -8.20182519e-01,  1.62744864e-01, -5.95586977e-01,\n",
       "        -7.14124242e-01],\n",
       "       [-5.68215198e-01, -5.77803847e-01, -5.13848382e-01,\n",
       "        -1.27561076e+00, -1.82549591e-01, -5.93400352e-01,\n",
       "        -8.14497896e-01],\n",
       "       [ 1.74228623e+00,  1.80676155e+00,  4.50911439e-02,\n",
       "        -1.33437570e+00,  1.29120685e-01,  1.63460181e+00,\n",
       "        -7.61759197e-01],\n",
       "       [-5.29476252e-01, -5.54612520e-01, -6.26522270e-01,\n",
       "        -5.30030653e-01, -5.89272835e-01, -5.94577765e-01,\n",
       "        -6.85203020e-01],\n",
       "       [-6.67829631e-01, -6.42408258e-01, -8.23171911e-01,\n",
       "         1.31074864e-01, -5.40129804e-01, -5.68842877e-01,\n",
       "        -1.79932254e-01],\n",
       "       [-3.88355806e-01, -4.30097180e-01, -1.29659484e+00,\n",
       "        -1.26826515e+00, -1.30410995e+00, -5.54209313e-01,\n",
       "        -1.87437563e+00],\n",
       "       [-3.96657008e-01, -4.47490675e-01, -1.01539164e+00,\n",
       "        -8.12836902e-01, -1.19961635e+00, -5.80785211e-01,\n",
       "        -8.53626609e-01],\n",
       "       [-2.14030548e-01, -2.80457902e-01, -8.61885503e-01,\n",
       "        -1.00312067e-01, -3.35151635e-01, -1.88874820e-01,\n",
       "         1.85836146e-01],\n",
       "       [ 1.65097300e+00,  1.61626136e+00,  8.44401631e-01,\n",
       "        -3.20680573e-01,  2.46158693e-01,  9.73568403e-01,\n",
       "         2.50483584e-01],\n",
       "       [-1.47636678e+00, -1.16945878e+00, -5.40813073e-01,\n",
       "         4.35917964e-01, -8.49213605e-01, -1.00616778e+00,\n",
       "        -7.66862942e-01],\n",
       "       [ 4.00258453e-01,  3.00705714e-01,  3.97423185e+00,\n",
       "         2.51105473e+00,  1.68811868e+00,  5.48017635e-01,\n",
       "         6.67289435e-01],\n",
       "       [ 2.14864926e-01,  9.44685546e-02, -1.03522995e+00,\n",
       "        -9.04657113e-01, -1.32441378e+00, -3.38742699e-01,\n",
       "        -2.24524778e+00],\n",
       "       [-3.99424076e-01, -4.36999360e-01, -9.13888836e-01,\n",
       "        -8.31200944e-01, -6.71393427e-01, -4.14769951e-01,\n",
       "        -9.48698350e-02],\n",
       "       [-7.61909928e-01, -7.21921380e-01, -5.41583493e-01,\n",
       "        -1.47026961e+00, -4.99392818e-01, -6.90284638e-01,\n",
       "        -1.15134507e+00],\n",
       "       [ 5.30310629e-01,  3.93747110e-01,  9.79225087e-01,\n",
       "         6.85668937e-01,  2.09678179e+00,  6.06888295e-01,\n",
       "         2.35662907e+00],\n",
       "       [-8.03415942e-01, -7.46769231e-01, -1.11805007e+00,\n",
       "        -1.08462473e+00, -1.06466700e+00, -7.29139273e-01,\n",
       "        -8.24705386e-01],\n",
       "       [ 7.87647914e-01,  7.01308283e-01,  1.04222553e-02,\n",
       "        -3.09662147e-01, -3.28685447e-01,  7.76772198e-01,\n",
       "        -4.45327000e-01],\n",
       "       [-1.97428143e-01, -2.71623110e-01, -1.32741163e+00,\n",
       "        -1.63921880e+00, -1.27882716e+00, -3.38910901e-01,\n",
       "        -1.05097142e+00],\n",
       "       [ 5.91186116e-01,  4.85408070e-01,  8.59810026e-01,\n",
       "         1.33575603e+00,  1.36028294e+00,  4.45414486e-01,\n",
       "         3.29912067e+00],\n",
       "       [-3.52383927e-01, -4.33410226e-01, -3.21628656e-01,\n",
       "        -2.80279680e-01, -3.90114236e-01, -5.37052721e-01,\n",
       "         7.01314403e-01],\n",
       "       [-7.75745266e-01, -7.21369206e-01, -7.35921874e-01,\n",
       "        -5.30030653e-01, -1.10774901e-01, -6.55466848e-01,\n",
       "         2.23263610e-01],\n",
       "       [-1.08881981e-01, -1.89625204e-01,  1.21420311e+00,\n",
       "         1.70303687e+00,  9.08296375e-01, -1.88706618e-01,\n",
       "         1.30355633e+00],\n",
       "       [-1.64223332e-01, -2.52297004e-01, -7.23980368e-01,\n",
       "        -5.41049078e-01, -6.75273140e-01, -2.86600115e-01,\n",
       "        -4.13003281e-01],\n",
       "       [ 1.01019252e-02, -5.21337637e-02,  1.84402125e+00,\n",
       "         5.05701324e-01,  2.38323393e+00,  9.97596135e-02,\n",
       "        -6.93511094e-02],\n",
       "       [-6.92733239e-01, -6.74434377e-01, -6.21129332e-01,\n",
       "         7.26069830e-01, -9.35213909e-01, -6.45542936e-01,\n",
       "        -2.03749731e-01],\n",
       "       [-2.77673103e-01, -3.49755796e-01, -1.02097718e+00,\n",
       "        -7.06325458e-01, -9.68838089e-01, -4.49587741e-01,\n",
       "        -7.49850458e-01],\n",
       "       [-6.56761361e-01, -6.18388670e-01,  8.96404964e-01,\n",
       "         1.79852989e+00,  2.07802984e+00, -1.93273207e-02,\n",
       "         3.19194202e+00],\n",
       "       [-1.08565683e+00, -9.47484646e-01, -5.48517271e-01,\n",
       "        -8.01818477e-01, -5.50475705e-01, -9.12647529e-01,\n",
       "        -1.12072260e+00],\n",
       "       [-1.00817894e+00, -8.93647636e-01, -1.16408265e+00,\n",
       "         2.05929929e+00, -1.23317587e+00, -8.98013965e-01,\n",
       "        -3.16032123e-01],\n",
       "       [ 1.02284866e+00,  9.09478053e-01,  2.93801729e+00,\n",
       "         1.10804191e+00,  2.16984971e+00,  6.79215105e-01,\n",
       "         6.12849488e-01],\n",
       "       [-4.87970238e-01, -5.17616831e-01,  1.25079805e+00,\n",
       "         1.01254889e+00,  1.73790833e+00, -2.66752293e-01,\n",
       "         1.87177328e+00],\n",
       "       [-1.54831053e+00, -1.21501317e+00, -1.00807265e+00,\n",
       "        -4.71265718e-01, -8.55033174e-01, -1.05175049e+00,\n",
       "         5.70318278e-01],\n",
       "       [-4.32628887e-01, -4.94149417e-01,  5.45863979e-01,\n",
       "        -6.25523672e-01,  8.28115641e-01, -4.48242126e-01,\n",
       "         5.87330762e-01],\n",
       "       [-7.86813537e-01, -7.41523574e-01, -1.05892035e+00,\n",
       "         7.40761064e-01, -1.02845634e+00, -7.41586212e-01,\n",
       "         6.50276952e-01],\n",
       "       [-5.95885874e-01, -6.05412570e-01, -9.07532873e-01,\n",
       "        -9.41385197e-01, -7.81965247e-01, -5.67833666e-01,\n",
       "        -8.10616807e-03],\n",
       "       [-7.03801509e-01, -6.85753953e-01, -2.02791410e-01,\n",
       "         1.75148566e-01,  2.60384308e-01, -5.88017892e-01,\n",
       "         5.46500801e-01],\n",
       "       [-7.23170982e-01, -6.82993081e-01, -9.27948996e-01,\n",
       "         4.54282006e-01, -7.76145677e-01, -7.12655488e-01,\n",
       "         6.11148239e-01],\n",
       "       [-1.15760059e+00, -9.86412945e-01, -1.27001536e+00,\n",
       "        -6.65924565e-01, -1.19748251e+00, -8.81193777e-01,\n",
       "        -9.11469053e-01],\n",
       "       [ 1.51222372e-01,  1.13662988e-02, -5.25019469e-01,\n",
       "        -1.06626068e+00, -3.57136675e-01, -3.26152696e-02,\n",
       "         3.81479709e-01],\n",
       "       [ 5.16079388e-02, -5.10294148e-02, -1.01751029e+00,\n",
       "        -3.83118316e-01, -7.12130413e-01, -2.78526425e-01,\n",
       "        -9.18274047e-01],\n",
       "       [ 2.09330791e-01,  7.07250530e-02, -9.92664255e-01,\n",
       "        -1.08829753e+00, -1.00989838e+00, -1.98630530e-01,\n",
       "        -4.06198287e-01],\n",
       "       [-9.27933983e-01, -8.39534540e-01, -1.20934481e+00,\n",
       "        -5.52067504e-01, -1.18105839e+00, -8.20641098e-01,\n",
       "        -7.26032981e-01],\n",
       "       [-1.22717318e-01, -2.26068718e-01, -8.25290565e-01,\n",
       "        -8.05491285e-01, -9.63018519e-01, -4.02154810e-01,\n",
       "        -1.05077325e-01],\n",
       "       [ 1.03391693e+00,  8.76347586e-01, -7.28795492e-01,\n",
       "         1.16680684e+00, -8.78958071e-01,  6.06888295e-01,\n",
       "         3.39779307e+00],\n",
       "       [ 3.44917102e-01,  1.99657789e-01,  9.71520889e-01,\n",
       "         5.68139068e-01,  6.60641364e-01,  3.39447299e-01,\n",
       "         5.63513285e-01],\n",
       "       [-7.72978199e-01, -7.68856209e-01,  3.44456828e+00,\n",
       "         2.88568119e+00,  3.94546502e+00, -5.59255370e-01,\n",
       "         6.38518521e+00],\n",
       "       [-1.43458406e+00, -1.14323049e+00,  6.98021879e-01,\n",
       "         1.10069629e+00,  1.16629729e+00, -9.67985949e-01,\n",
       "         2.28517664e+00],\n",
       "       [ 8.75798173e-02, -1.34815517e-02, -5.21167370e-01,\n",
       "        -1.24255549e+00,  5.66993761e-02, -1.17220817e-01,\n",
       "        -7.03916752e-01],\n",
       "       [-1.19950251e-01, -2.17233926e-01, -7.29565911e-01,\n",
       "        -1.49230646e+00, -9.63665138e-01, -3.25622952e-01,\n",
       "        -1.74508076e+00]])"
      ]
     },
     "execution_count": 8,
     "metadata": {},
     "output_type": "execute_result"
    }
   ],
   "source": [
    "# I did not exhaustively check every possible combination of non-error features to include in my model, but this \n",
    "# particular set of features yields a model with a very good accuracy score:\n",
    "\n",
    "features_2 = all_features[['mean radius', 'mean area', 'mean compactness', 'mean symmetry',\\\n",
    "                           'worst compactness', 'worst area','worst symmetry']]\n",
    "\n",
    "feat_train_2, feat_test_2, targ_train_2, targ_test_2 = train_test_split(features_2, targets, train_size = 0.8, \\\n",
    "                                                                        test_size = 0.2, random_state = 1)\n",
    "\n",
    "# Let's make sure this data is scaled:\n",
    "stdscale = StandardScaler()\n",
    "stdscale.fit_transform(feat_train_2)\n",
    "stdscale.transform(feat_test_2)"
   ]
  },
  {
   "cell_type": "markdown",
   "metadata": {},
   "source": [
    "The output for the cell above has been toggled.\n",
    "\n",
    "Now that we've selected a set of features for our logistic regression model, and made sure they were scaled, let's build it and see how it performs:"
   ]
  },
  {
   "cell_type": "code",
   "execution_count": 9,
   "metadata": {},
   "outputs": [
    {
     "name": "stdout",
     "output_type": "stream",
     "text": [
      "Training score:  0.945054945054945\n",
      "Test score:  0.9473684210526315\n",
      "The number of successes was 108, and the number of failures was 6\n"
     ]
    },
    {
     "data": {
      "text/plain": [
       "Text(0.5, 1.0, 'Number of Successful and Failed Model Predictions')"
      ]
     },
     "execution_count": 9,
     "metadata": {},
     "output_type": "execute_result"
    },
    {
     "data": {
      "image/png": "[encoded data removed]",
      "text/plain": [
       "<Figure size 432x432 with 1 Axes>"
      ]
     },
     "metadata": {
      "needs_background": "light"
     },
     "output_type": "display_data"
    }
   ],
   "source": [
    "# Build the model:\n",
    "bc_l_r_2 = LogisticRegression()\n",
    "bc_l_r_2.fit(feat_train_2, targ_train_2)\n",
    "\n",
    "# Determine the accuracy:\n",
    "train_score_2 = bc_l_r_2.score(feat_train_2, targ_train_2)\n",
    "print('Training score: ', train_score_2)\n",
    "\n",
    "# Predict targets for the feature test set:\n",
    "targ_predict_2 = bc_l_r_2.predict(feat_test_2)\n",
    "\n",
    "# Determine the accuracy:\n",
    "test_score_2 = bc_l_r_2.score(feat_test_2, targ_test_2)\n",
    "print('Test score: ', test_score_2)\n",
    "\n",
    "# Initialize an empty array:\n",
    "results_2=[]\n",
    "\n",
    "# Loop through cells in the test set to see which classifications were correct, and which ones weren't:\n",
    "for i in range(len(targ_predict_2)):\n",
    "    if targ_predict_2[i] == targ_test_2.iloc[i]:\n",
    "        results_2.append('successful')\n",
    "    else:\n",
    "        results_2.append('unsuccessful')\n",
    "\n",
    "# Count up the number of successes and the number of failures:\n",
    "success_count_2 = results_2.count('successful')\n",
    "fails_count_2 = results_2.count('unsuccessful')\n",
    "\n",
    "# Gather arrays to be used in plotting a bar graph of the results:\n",
    "options = ['successful', 'failed']\n",
    "test_counts_2 =[success_count_2, fails_count_2]\n",
    "\n",
    "print('The number of successes was {}, and the number of failures was {}'.format(success_count_2,fails_count_2))\n",
    "        \n",
    "# Plot the bar graph of results:\n",
    "\n",
    "plt.figure(figsize=(6,6))\n",
    "plt.bar(options, test_counts_2)\n",
    "plt.xlabel('outcome')\n",
    "plt.ylabel('number of predictions')\n",
    "plt.title('Number of Successful and Failed Model Predictions')"
   ]
  },
  {
   "cell_type": "markdown",
   "metadata": {},
   "source": [
    "This model performed even better than the last one! We've been able to boost our accuracy rate to 94.7%, which is a very high accuracy indeed."
   ]
  },
  {
   "cell_type": "code",
   "execution_count": 10,
   "metadata": {},
   "outputs": [
    {
     "data": {
      "image/png": "[encoded data removed]",
      "text/plain": [
       "<Figure size 432x288 with 1 Axes>"
      ]
     },
     "metadata": {
      "needs_background": "light"
     },
     "output_type": "display_data"
    }
   ],
   "source": [
    "# Code again borrowed from Codecademy to take a look at the model coefficients:\n",
    "coefficients = bc_l_r_2.coef_\n",
    "coefficients = coefficients.tolist()[0]\n",
    "\n",
    "# Plot a bar graph of coefficients:\n",
    "plt.bar([1,2,3,4,5,6,7],coefficients)\n",
    "plt.xticks([1,2,3,4,5,6,7],['mean radius', 'mean area', 'mean compactness', 'mean symmetry',\\\n",
    "                           'worst compactness', 'worst area','worst symmetry'], rotation = 90)\n",
    "plt.xlabel('feature')\n",
    "plt.ylabel('coefficient')\n",
    "plt.title('Coefficients of Model Features')\n",
    "plt.show()"
   ]
  },
  {
   "cell_type": "markdown",
   "metadata": {},
   "source": [
    "Again, \"mean radius\" and \"worst compactness\" are the most important features, and \"mean area\" is the least important. Interestingly, when I tried to remove \"mean area\" from the list of model features, the model performed worse. Perhaps there is some underlying degeneracy with some other cell feature(s) that I am not seeing which causes its absence to degrade model performance."
   ]
  },
  {
   "cell_type": "markdown",
   "metadata": {},
   "source": [
    "# Conclusions\n",
    "\n",
    "We used the Scikit-Learn breast cancer data set to get some practice building a logistic regression model. The best model I was able to construct was one whose features included \"mean radius\", \"mean area\", \"mean compactness\", \"mean symmetry\", \"worst compactness\", \"worst area\", and \"worst symmetry;\" this model had an accuracy of 94.7%, and misclassified only 6 cells in the test set. \n",
    "\n",
    "# Limitations\n",
    "\n",
    "As I mentioned above, I did not exhaustively try every combination of non-error features possible to try to determine what the absolute \"best\" model for this data is. So, there could well be a set of features which results in a better model that I did not find. Also, as the Scikit-Learn folks mentioned, this is a relatively small data set so changing the random state (which determines which rows end up in the train set and which rows end up in the test set) will doubtless impact model performance. Also, since this is a small data set, the model built herein should in no way, shape, or form be construed as the best way to tell if a patient has breast cancer given measurements from a fine needle aspirate imaging method. This model was built for the purposes of practicing logistic regression and has no broader applications other than serving as a practice exercise."
   ]
  },
  {
   "cell_type": "code",
   "execution_count": null,
   "metadata": {
    "collapsed": true
   },
   "outputs": [],
   "source": []
  }
 ],
 "metadata": {
  "kernelspec": {
   "display_name": "Python 3",
   "language": "python",
   "name": "python3"
  },
  "language_info": {
   "codemirror_mode": {
    "name": "ipython",
    "version": 3
   },
   "file_extension": ".py",
   "mimetype": "text/x-python",
   "name": "python",
   "nbconvert_exporter": "python",
   "pygments_lexer": "ipython3",
   "version": "3.8.3"
  }
 },
 "nbformat": 4,
 "nbformat_minor": 4
}
